{
 "cells": [
  {
   "cell_type": "markdown",
   "metadata": {},
   "source": [
    "## Setting up our Data Set"
   ]
  },
  {
   "cell_type": "code",
   "execution_count": null,
   "metadata": {},
   "outputs": [],
   "source": [
    "import pandas as pd\n",
    "import numpy as np\n",
    "from sklearn.model_selection import train_test_split\n",
    "\n",
    "df= pd.read_csv('diabetes.csv')\n",
    "y = df[['Outcome']]\n",
    "y = y.values\n",
    "y= y.T[0]\n",
    "X = df.drop([\"Outcome\"], axis=1)\n",
    "X = X.values\n",
    "\n",
    "history=X_train, X_test, y_train, y_test = train_test_split(X, y,test_size=0.2, random_state=45, stratify=y)\n",
    "print(\"Training data size: \\t%d samples with %d features\" %(X_train.shape[0], X_train.shape[1]))\n",
    "print(\"Testing data size: \\t%d samples\" %(X_test.shape[0]))\n",
    "y_train = (2* y_train )-1\n",
    "y_test = (2* y_test) -1"
   ]
  },
  {
   "cell_type": "markdown",
   "metadata": {},
   "source": [
    "## Decision Trees"
   ]
  },
  {
   "cell_type": "code",
   "execution_count": null,
   "metadata": {},
   "outputs": [],
   "source": [
    "import time\n",
    "\n",
    "def Decision_Tree(X_train, y_train, X_test, y_test):\n",
    "    from sklearn.tree import DecisionTreeClassifier\n",
    "\n",
    "    clf1 = DecisionTreeClassifier(criterion=\"entropy\", max_depth=2)\n",
    "    clf1.fit(X_train, y_train)\n",
    "    y_train1 = clf1.predict(X_train)\n",
    "    y_test1 = clf1.predict(X_test)\n",
    "\n",
    "    from sklearn.metrics import accuracy_score\n",
    "\n",
    "    print('Accuracy for training data: \\t', (accuracy_score(y_train, y_train1)))\n",
    "    print('Accuracy for test data: \\t', (accuracy_score(y_test, y_test1)))\n",
    "    \n",
    "    return clf1\n",
    "t=time.time()\n",
    "clf1 = Decision_Tree(X_train, y_train, X_test, y_test)\n",
    "elapsed_DT = time.time()-t\n",
    "elapsed_DT"
   ]
  },
  {
   "cell_type": "markdown",
   "metadata": {},
   "source": [
    "## Random Forest\n"
   ]
  },
  {
   "cell_type": "code",
   "execution_count": null,
   "metadata": {},
   "outputs": [],
   "source": [
    "def Random_Forest(X_train, y_train, X_test, y_test):\n",
    "    from sklearn.ensemble import RandomForestClassifier\n",
    "\n",
    "    clf2 = RandomForestClassifier(n_estimators=500, max_leaf_nodes=16, n_jobs=-1)\n",
    "    clf2.fit(X_train, y_train)\n",
    "    y_train2 = clf2.predict(X_train)\n",
    "    y_test2 = clf2.predict(X_test)\n",
    "\n",
    "    from sklearn.metrics import accuracy_score\n",
    "\n",
    "    print('Accuracy for training data: \\t', (accuracy_score(y_train, y_train2)))\n",
    "    print('Accuracy for test data: \\t', (accuracy_score(y_test, y_test2)))\n",
    "    \n",
    "    return clf2\n",
    "t=time.time()    \n",
    "clf2 =Random_Forest(X_train, y_train, X_test, y_test)\n",
    "\n",
    "elapsed_rf = time.time()-t\n",
    "elapsed_rf"
   ]
  },
  {
   "cell_type": "markdown",
   "metadata": {},
   "source": [
    "# XGB"
   ]
  },
  {
   "cell_type": "code",
   "execution_count": null,
   "metadata": {},
   "outputs": [],
   "source": [
    "def XGB(X_train, y_train, X_test, y_test):\n",
    "    from xgboost import XGBClassifier\n",
    "\n",
    "    clf3 = XGBClassifier(objective ='reg:logistic', colsample_bytree = 0.3, learning_rate = 0.1,\n",
    "                         max_depth = 3,\n",
    "                         gamma =10, n_estimators = 1000)\n",
    "    clf3.fit(X_train, y_train)\n",
    "    y_train3 = clf3.predict(X_train)\n",
    "    y_test3 = clf3.predict(X_test)\n",
    "\n",
    "    from sklearn.metrics import accuracy_score\n",
    "\n",
    "    print('Accuracy for training data: \\t', (accuracy_score(y_train, y_train3)))\n",
    "    print('Accuracy for test data: \\t', (accuracy_score(y_test, y_test3)))\n",
    "    \n",
    "    return clf3\n",
    "t=time.time()     \n",
    "clf3 = XGB(X_train, y_train, X_test, y_test)\n",
    "   \n",
    "elapsed_xgb = time.time()-t\n",
    "elapsed_xgb"
   ]
  },
  {
   "cell_type": "markdown",
   "metadata": {},
   "source": [
    "## AdaBoost\n"
   ]
  },
  {
   "cell_type": "code",
   "execution_count": null,
   "metadata": {},
   "outputs": [],
   "source": [
    "def AdaBoost(X_train, y_train, X_test, y_test):\n",
    "    from sklearn.ensemble import AdaBoostClassifier\n",
    "    from sklearn.tree import DecisionTreeClassifier\n",
    "    \n",
    "    clf4 = AdaBoostClassifier(DecisionTreeClassifier(max_depth=1),n_estimators=1000,\n",
    "                              algorithm=\"SAMME.R\", learning_rate=0.1)\n",
    "    clf4.fit(X_train, y_train)\n",
    "    y_train4 = clf4.predict(X_train)\n",
    "    y_test4 = clf4.predict(X_test)\n",
    "\n",
    "    from sklearn.metrics import accuracy_score\n",
    "\n",
    "    print('Accuracy for training data: \\t', (accuracy_score(y_train, y_train4)))\n",
    "    print('Accuracy for test data: \\t', (accuracy_score(y_test, y_test4)))\n",
    "    \n",
    "    return clf4\n",
    "t=time.time()    \n",
    "clf4 = AdaBoost(X_train, y_train, X_test, y_test)\n",
    "elapsed_ab = time.time()-t\n",
    "elapsed_ab"
   ]
  },
  {
   "cell_type": "markdown",
   "metadata": {},
   "source": [
    "# voting model"
   ]
  },
  {
   "cell_type": "code",
   "execution_count": null,
   "metadata": {
    "scrolled": true
   },
   "outputs": [],
   "source": [
    "def VotingModel (X_train, y_train, X_test, y_test, clf1, clf2, clf3, clf4):\n",
    "    from sklearn.tree import DecisionTreeClassifier\n",
    "    from sklearn.ensemble import RandomForestClassifier\n",
    "    from xgboost import XGBClassifier\n",
    "    from sklearn.ensemble import AdaBoostClassifier\n",
    "    from sklearn.ensemble import BaggingClassifier\n",
    "    from sklearn.ensemble import VotingClassifier \n",
    "    from sklearn.metrics import accuracy_score\n",
    "    \n",
    "\n",
    "    clf1 = BaggingClassifier(DecisionTreeClassifier(), n_estimators=999,\n",
    "                             max_samples =999, bootstrap =True, n_jobs=-1)  \n",
    "    clf2 = RandomForestClassifier(n_estimators=999, max_leaf_nodes=16, n_jobs=-1)\n",
    "    clf3 = XGBClassifier(objective ='reg:logistic', colsample_bytree = 0.3, learning_rate = 0.1,\n",
    "                         max_depth = 3,\n",
    "                         gamma =10, n_estimators = 999)\n",
    "    clf4 = AdaBoostClassifier(DecisionTreeClassifier(max_depth=1),n_estimators=999,\n",
    "                              algorithm=\"SAMME.R\", learning_rate=0.1)\n",
    "    \n",
    "    \n",
    "\n",
    "    voting_clf = VotingClassifier(estimators= [('DTC', clf1), ('RF', clf2),('XGB', clf3), \n",
    "                                               ('ada', clf4)], \n",
    "                                  voting='soft',\n",
    "                                  weights= [0.1, 0.2, 0.8, 0.7],flatten_transform=True)\n",
    "    voting_clf.fit(X_train, y_train)\n",
    "    for clf5 in([clf1, clf2, clf3, clf4, voting_clf]):\n",
    "        clf5.fit(X_train, y_train)\n",
    "        y_train5 = clf5.predict(X_train)\n",
    "        y_test5 = clf5.predict(X_test)\n",
    "    print('Accuracy for training data: \\t', (accuracy_score(y_train, y_train5)))\n",
    "    print('Accuracy for test data: \\t', (accuracy_score(y_test, y_test5)))\n",
    "   \n",
    "    \n",
    "    return clf5\n",
    "t=time.time() \n",
    "clf5 = VotingModel(X_train, y_train, X_test, y_test, clf1, clf2, clf3, clf4)\n",
    "\n",
    "elapsed_vt = time.time()-t\n",
    "elapsed_vt"
   ]
  },
  {
   "cell_type": "code",
   "execution_count": null,
   "metadata": {},
   "outputs": [],
   "source": [
    "import time\n",
    "\n",
    "t=time.time()\n",
    "Elapsed = time.time()-t\n",
    "print(Elapsed)"
   ]
  },
  {
   "cell_type": "markdown",
   "metadata": {},
   "source": [
    "## QBoost"
   ]
  },
  {
   "cell_type": "code",
   "execution_count": null,
   "metadata": {},
   "outputs": [],
   "source": [
    "import time\n",
    "def QBoost(X_train, y_train, X_test, y_test):\n",
    "    NUM_READS = 3000\n",
    "    DW_PARAMS = {'num_reads': NUM_READS,\n",
    "                 'auto_scale': True,\n",
    "                 'num_spin_reversal_transforms': 10,\n",
    "                 'postprocess': 'optimization',\n",
    "                 }\n",
    "\n",
    "    from dwave.system.samplers import DWaveSampler\n",
    "    from dwave.system.composites import EmbeddingComposite\n",
    "\n",
    "    dwave_sampler = DWaveSampler(solver={'qpu': True}) # Some accounts need to replace this line with the next:\n",
    "    # dwave_sampler = DWaveSampler(token='ENTER TOKEN HERE', solver='ENTER SOLVER NAME HERE')\n",
    "    emb_sampler = EmbeddingComposite(dwave_sampler)\n",
    "\n",
    "    from qboost import WeakClassifiers, QBoostClassifier\n",
    "\n",
    "    clf6 = QBoostClassifier(n_estimators=50, max_depth=2)\n",
    "    clf6.fit(X_train, y_train, emb_sampler, lmd=1.0, **DW_PARAMS)\n",
    "    y_train6 = clf6.predict(X_train)\n",
    "    y_test6 = clf6.predict(X_test)\n",
    "\n",
    "    from sklearn.metrics import accuracy_score\n",
    "\n",
    "    print('Accuracy for training data: \\t', (accuracy_score(y_train, y_train6)))\n",
    "    print('Accuracy for test data: \\t', (accuracy_score(y_test, y_test6)))\n",
    "    \n",
    "    return clf6\n",
    "t=time.time()     \n",
    "clf6 = QBoost(X_train, y_train, X_test, y_test)\n",
    "elapsed_qb = time.time()-t\n",
    "elapsed_qb"
   ]
  },
  {
   "cell_type": "markdown",
   "metadata": {},
   "source": [
    "## QBoostPlus"
   ]
  },
  {
   "cell_type": "code",
   "execution_count": null,
   "metadata": {},
   "outputs": [],
   "source": [
    "def QBoostPlus(X_train, y_train, X_test, y_test, clf1, clf2, clf3, clf4):\n",
    "    NUM_READS = 1000\n",
    "    DW_PARAMS = {'num_reads': NUM_READS,\n",
    "                 'auto_scale': True,\n",
    "                 'num_spin_reversal_transforms': 10,\n",
    "                 'postprocess': 'optimization',\n",
    "                 }\n",
    "\n",
    "    from dwave.system.samplers import DWaveSampler\n",
    "    from dwave.system.composites import EmbeddingComposite\n",
    "    # dwave_sampler = DWaveSampler(token='ENTER TOKEN HERE', solver='ENTER SOLVER NAME HERE')\n",
    "    dwave_sampler = DWaveSampler(solver={'qpu': True}) # Some accounts need to replace this line with the next:\n",
    "    \n",
    "    emb_sampler = EmbeddingComposite(dwave_sampler)\n",
    "    \n",
    "    from qboost import QboostPlus\n",
    "\n",
    "    clf7 = QboostPlus([clf1, clf2, clf3, clf4])\n",
    "    clf7.fit(X_train, y_train, emb_sampler, lmd=1.0, **DW_PARAMS)\n",
    "    y_train7 = clf7.predict(X_train)\n",
    "    y_test7 = clf7.predict(X_test)\n",
    "\n",
    "    from sklearn.metrics import accuracy_score\n",
    "\n",
    "    print('Accuracy for training data: \\t', (accuracy_score(y_train, y_train7)))\n",
    "    print('Accuracy for test data: \\t', (accuracy_score(y_test, y_test7)))\n",
    "    \n",
    "    return clf7\n",
    "t=time.time()    \n",
    "clf7 = QBoostPlus(X_train, y_train, X_test, y_test, clf1, clf2, clf3, clf4)\n",
    "elapsed_qbp = time.time()-t\n",
    "elapsed_qbp"
   ]
  },
  {
   "cell_type": "markdown",
   "metadata": {},
   "source": [
    "# new model"
   ]
  },
  {
   "cell_type": "code",
   "execution_count": null,
   "metadata": {},
   "outputs": [],
   "source": [
    "def NewModel(X_train, y_train, X_test, y_test, clf5, clf6):\n",
    "    NUM_READS = 1000\n",
    "    DW_PARAMS = {'num_reads': NUM_READS,\n",
    "                 'auto_scale': True,\n",
    "                 'num_spin_reversal_transforms': 10,\n",
    "                 'postprocess': 'optimization',\n",
    "                 }\n",
    "\n",
    "    from dwave.system.samplers import DWaveSampler\n",
    "    from dwave.system.composites import EmbeddingComposite\n",
    "\n",
    "    dwave_sampler = DWaveSampler(solver={'qpu': True}) # Some accounts need to replace this line with the next:\n",
    "    # dwave_sampler = DWaveSampler(token='ENTER TOKEN HERE', solver='ENTER SOLVER NAME HERE')\n",
    "    emb_sampler = EmbeddingComposite(dwave_sampler)\n",
    "    \n",
    "    from qboost import QboostPlus\n",
    "\n",
    "    clf8 = QboostPlus([clf5, clf6])\n",
    "    clf8.fit(X_train, y_train, emb_sampler, lmd=1.0, **DW_PARAMS)\n",
    "    y_train8 = clf8.predict(X_train)\n",
    "    y_test8 = clf8.predict(X_test)\n",
    "\n",
    "    from sklearn.metrics import accuracy_score\n",
    "\n",
    "    print('Accuracy for training data: \\t', (accuracy_score(y_train, y_train8)))\n",
    "    print('Accuracy for test data: \\t', (accuracy_score(y_test, y_test8)))\n",
    "    \n",
    "    return clf8\n",
    "t=time.time()    \n",
    "clf8 = NewModel(X_train, y_train, X_test, y_test, clf5, clf6)\n",
    "elapsed_NM = time.time()-t\n",
    "elapsed_NM"
   ]
  },
  {
   "cell_type": "code",
   "execution_count": null,
   "metadata": {},
   "outputs": [],
   "source": [
    "print('=======================================')\n",
    "#Decision Tree\n",
    "print('Decision Tree: ')\n",
    "clf1 = Decision_Tree(X_train, y_train, X_test, y_test)\n",
    "print('---------------------------------------')\n",
    "# Random Forest\n",
    "print('Random Forest: ')\n",
    "clf2 = Random_Forest(X_train, y_train, X_test, y_test)\n",
    "print('---------------------------------------')\n",
    "#XGB\n",
    "print('XGB:')\n",
    "clf3 =  XGB(X_train, y_train, X_test, y_test)\n",
    "print('---------------------------------------')\n",
    "# AdaBoost\n",
    "print('AdaBoost: ')\n",
    "clf4 = AdaBoost(X_train, y_train, X_test, y_test)\n",
    "print('---------------------------------------')\n",
    "# VotingMODEL\n",
    "print('VotingModel: ')\n",
    "clf5 = VotingModel(X_train, y_train, X_test, y_test, clf1, clf2, clf3, clf4) \n",
    "print('---------------------------------------')\n",
    "print('QBoost: ')\n",
    "clf6 = QBoost(X_train, y_train, X_test, y_test) \n",
    "print('---------------------------------------')\n",
    "# QBoostPlus\n",
    "print('QBoostPlus: ')\n",
    "clf7 = QBoostPlus(X_train, y_train, X_test, y_test, clf1, clf2, clf3, clf4) \n",
    "print('---------------------------------------')\n",
    "# QBoostPlusPlus\n",
    "print('NewModel: ')\n",
    "clf8 = NewModel(X_train, y_train, X_test, y_test,  clf5,clf6) \n",
    "print('=======================================')"
   ]
  },
  {
   "cell_type": "code",
   "execution_count": null,
   "metadata": {},
   "outputs": [],
   "source": [
    "from sklearn.metrics import confusion_matrix \n",
    "from sklearn.metrics import accuracy_score \n",
    "from sklearn.metrics import classification_report \n",
    "  \n",
    "actual = y_test\n",
    "predicted  = clf7.predict(X_test)\n",
    "results = confusion_matrix(actual, predicted)"
   ]
  },
  {
   "cell_type": "code",
   "execution_count": null,
   "metadata": {},
   "outputs": [],
   "source": [
    "import numpy as np\n",
    "predicted = np.where(predicted >0.0, 1, -1)\n",
    "#print(predicted)\n",
    "#print(y_test.T)"
   ]
  },
  {
   "cell_type": "code",
   "execution_count": null,
   "metadata": {},
   "outputs": [],
   "source": [
    "print ('Confusion Matrix :')\n",
    "print(results) \n",
    "print ('Accuracy Score :',accuracy_score(actual, predicted)) \n",
    "print ('Report : ')\n",
    "print( classification_report(actual, predicted))"
   ]
  },
  {
   "cell_type": "code",
   "execution_count": null,
   "metadata": {},
   "outputs": [],
   "source": [
    "def getCM(actuals, predictions, NUM_LABELS=2):\n",
    "    import numpy\n",
    "    import matplotlib.pyplot as plt\n",
    "    from sklearn.metrics import confusion_matrix\n",
    "    from sklearn.metrics import accuracy_score\n",
    "    from sklearn.metrics import classification_report\n",
    "    \n",
    "    def error_rate(predictions, labels):\n",
    "        \"\"\"Return the error rate and confusions.\"\"\"\n",
    "        correct = numpy.sum(predictions == labels)\n",
    "        total = predictions.shape[0]\n",
    "\n",
    "        error = 100.0 - (100 * float(correct) / float(total))\n",
    "\n",
    "        confusions = numpy.zeros([NUM_LABELS, NUM_LABELS], numpy.int32)\n",
    "        bundled = zip(predictions, labels)\n",
    "        for predicted, actual in bundled:\n",
    "            confusions[int(predicted), int(actual)] += 1\n",
    "\n",
    "        return error, confusions\n",
    "\n",
    "    %matplotlib inline  \n",
    "\n",
    "    test_error, confusions = error_rate(numpy.asarray(predictions), numpy.asarray(actuals))\n",
    "    \n",
    "    plt.xlabel('Actual')\n",
    "    plt.ylabel('Predicted')\n",
    "    plt.grid(False)\n",
    "    plt.xticks(numpy.arange(NUM_LABELS))\n",
    "    plt.yticks(numpy.arange(NUM_LABELS))\n",
    "    plt.imshow(confusions, cmap=plt.cm.jet, interpolation='nearest');\n",
    "\n",
    "    for i, cas in enumerate(confusions):\n",
    "        for j, count in enumerate(cas):\n",
    "            if count > 0:\n",
    "                xoff = .07 * len(str(count))\n",
    "                plt.text(j-xoff, i+.2, int(count), fontsize=10, color='white')\n",
    "                \n",
    "    print('Accuracy Score: {}'.format(accuracy_score(actuals, predictions)))\n",
    "    print()\n",
    "\n",
    "    print(classification_report(actuals, predictions, digits=4))"
   ]
  },
  {
   "cell_type": "code",
   "execution_count": null,
   "metadata": {},
   "outputs": [],
   "source": [
    "y_pred = clf7.predict(X_test)\n",
    "import numpy as np\n",
    "predicted = np.where(predicted >0.0, 1, -1)"
   ]
  },
  {
   "cell_type": "code",
   "execution_count": null,
   "metadata": {
    "scrolled": false
   },
   "outputs": [],
   "source": [
    "getCM(y_test.astype(int), y_pred)"
   ]
  },
  {
   "cell_type": "code",
   "execution_count": null,
   "metadata": {},
   "outputs": [],
   "source": [
    "import scikitplot as skplt\n",
    "from sklearn.metrics import accuracy_score\n",
    "accuracy_score(y_test, y_pred)\n",
    "skplt.metrics.plot_confusion_matrix(y_test, y_pred)\n",
    "\n",
    "plt.savefig('C:/Users/danyal.maheshwari/Documents/Results/confusion_matrix142.png', transparent=True, dpi = 1000)\n",
    "plt.show()\n"
   ]
  },
  {
   "cell_type": "code",
   "execution_count": null,
   "metadata": {},
   "outputs": [],
   "source": []
  }
 ],
 "metadata": {
  "kernelspec": {
   "display_name": "Python 3",
   "language": "python",
   "name": "python3"
  },
  "language_info": {
   "codemirror_mode": {
    "name": "ipython",
    "version": 3
   },
   "file_extension": ".py",
   "mimetype": "text/x-python",
   "name": "python",
   "nbconvert_exporter": "python",
   "pygments_lexer": "ipython3",
   "version": "3.7.7"
  },
  "toc": {
   "base_numbering": 1,
   "nav_menu": {},
   "number_sections": true,
   "sideBar": true,
   "skip_h1_title": false,
   "title_cell": "Table of Contents",
   "title_sidebar": "Contents",
   "toc_cell": false,
   "toc_position": {},
   "toc_section_display": true,
   "toc_window_display": false
  }
 },
 "nbformat": 4,
 "nbformat_minor": 1
}
