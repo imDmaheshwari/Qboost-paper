{
 "cells": [
  {
   "cell_type": "markdown",
   "metadata": {},
   "source": [
    "## Setting up our Data Set"
   ]
  },
  {
   "cell_type": "code",
   "execution_count": 1,
   "metadata": {},
   "outputs": [
    {
     "name": "stdout",
     "output_type": "stream",
     "text": [
      "Training data size: \t2250 samples with 25 features\n",
      "Testing data size: \t563 samples\n"
     ]
    }
   ],
   "source": [
    "import pandas as pd\n",
    "import numpy as np\n",
    "from sklearn.model_selection import train_test_split\n",
    "\n",
    "df= pd.read_csv('diabetes_balanced_dataset.csv')\n",
    "y = df[['result']]\n",
    "y = y.values\n",
    "y= y.T[0]\n",
    "X = df.drop([\"result\"], axis=1)\n",
    "X = X.values\n",
    "\n",
    "history=X_train, X_test, y_train, y_test = train_test_split(X, y,test_size=0.2, random_state=45, stratify=y)\n",
    "print(\"Training data size: \\t%d samples with %d features\" %(X_train.shape[0], X_train.shape[1]))\n",
    "print(\"Testing data size: \\t%d samples\" %(X_test.shape[0]))\n",
    "y_train = (2* y_train )-1\n",
    "y_test = (2* y_test) -1"
   ]
  },
  {
   "cell_type": "markdown",
   "metadata": {},
   "source": [
    "## Decision Trees"
   ]
  },
  {
   "cell_type": "code",
   "execution_count": 2,
   "metadata": {},
   "outputs": [
    {
     "name": "stdout",
     "output_type": "stream",
     "text": [
      "Accuracy for training data: \t 0.628\n",
      "Accuracy for test data: \t 0.6412078152753108\n"
     ]
    },
    {
     "data": {
      "text/plain": [
       "0.10707211494445801"
      ]
     },
     "execution_count": 2,
     "metadata": {},
     "output_type": "execute_result"
    }
   ],
   "source": [
    "import time\n",
    "\n",
    "def Decision_Tree(X_train, y_train, X_test, y_test):\n",
    "    from sklearn.tree import DecisionTreeClassifier\n",
    "\n",
    "    clf1 = DecisionTreeClassifier(criterion=\"entropy\", max_depth=2)\n",
    "    clf1.fit(X_train, y_train)\n",
    "    y_train1 = clf1.predict(X_train)\n",
    "    y_test1 = clf1.predict(X_test)\n",
    "\n",
    "    from sklearn.metrics import accuracy_score\n",
    "\n",
    "    print('Accuracy for training data: \\t', (accuracy_score(y_train, y_train1)))\n",
    "    print('Accuracy for test data: \\t', (accuracy_score(y_test, y_test1)))\n",
    "    \n",
    "    return clf1\n",
    "t=time.time()\n",
    "clf1 = Decision_Tree(X_train, y_train, X_test, y_test)\n",
    "elapsed_DT = time.time()-t\n",
    "elapsed_DT"
   ]
  },
  {
   "cell_type": "markdown",
   "metadata": {},
   "source": [
    "## Random Forest\n"
   ]
  },
  {
   "cell_type": "code",
   "execution_count": 3,
   "metadata": {},
   "outputs": [
    {
     "name": "stdout",
     "output_type": "stream",
     "text": [
      "Accuracy for training data: \t 0.7075555555555556\n",
      "Accuracy for test data: \t 0.6642984014209592\n"
     ]
    },
    {
     "data": {
      "text/plain": [
       "2.8432815074920654"
      ]
     },
     "execution_count": 3,
     "metadata": {},
     "output_type": "execute_result"
    }
   ],
   "source": [
    "def Random_Forest(X_train, y_train, X_test, y_test):\n",
    "    from sklearn.ensemble import RandomForestClassifier\n",
    "\n",
    "    clf2 = RandomForestClassifier(n_estimators=500, max_leaf_nodes=16, n_jobs=-1)\n",
    "    clf2.fit(X_train, y_train)\n",
    "    y_train2 = clf2.predict(X_train)\n",
    "    y_test2 = clf2.predict(X_test)\n",
    "\n",
    "    from sklearn.metrics import accuracy_score\n",
    "\n",
    "    print('Accuracy for training data: \\t', (accuracy_score(y_train, y_train2)))\n",
    "    print('Accuracy for test data: \\t', (accuracy_score(y_test, y_test2)))\n",
    "    \n",
    "    return clf2\n",
    "t=time.time()    \n",
    "clf2 =Random_Forest(X_train, y_train, X_test, y_test)\n",
    "\n",
    "elapsed_rf = time.time()-t\n",
    "elapsed_rf"
   ]
  },
  {
   "cell_type": "markdown",
   "metadata": {},
   "source": [
    "# XGB"
   ]
  },
  {
   "cell_type": "code",
   "execution_count": 4,
   "metadata": {},
   "outputs": [
    {
     "ename": "ModuleNotFoundError",
     "evalue": "No module named 'xgboost'",
     "output_type": "error",
     "traceback": [
      "\u001b[1;31m---------------------------------------------------------------------------\u001b[0m",
      "\u001b[1;31mModuleNotFoundError\u001b[0m                       Traceback (most recent call last)",
      "\u001b[1;32m<ipython-input-4-33c7d4ffc720>\u001b[0m in \u001b[0;36m<module>\u001b[1;34m\u001b[0m\n\u001b[0;32m     16\u001b[0m     \u001b[1;32mreturn\u001b[0m \u001b[0mclf3\u001b[0m\u001b[1;33m\u001b[0m\u001b[1;33m\u001b[0m\u001b[0m\n\u001b[0;32m     17\u001b[0m \u001b[0mt\u001b[0m\u001b[1;33m=\u001b[0m\u001b[0mtime\u001b[0m\u001b[1;33m.\u001b[0m\u001b[0mtime\u001b[0m\u001b[1;33m(\u001b[0m\u001b[1;33m)\u001b[0m\u001b[1;33m\u001b[0m\u001b[1;33m\u001b[0m\u001b[0m\n\u001b[1;32m---> 18\u001b[1;33m \u001b[0mclf3\u001b[0m \u001b[1;33m=\u001b[0m \u001b[0mXGB\u001b[0m\u001b[1;33m(\u001b[0m\u001b[0mX_train\u001b[0m\u001b[1;33m,\u001b[0m \u001b[0my_train\u001b[0m\u001b[1;33m,\u001b[0m \u001b[0mX_test\u001b[0m\u001b[1;33m,\u001b[0m \u001b[0my_test\u001b[0m\u001b[1;33m)\u001b[0m\u001b[1;33m\u001b[0m\u001b[1;33m\u001b[0m\u001b[0m\n\u001b[0m\u001b[0;32m     19\u001b[0m \u001b[1;33m\u001b[0m\u001b[0m\n\u001b[0;32m     20\u001b[0m \u001b[0melapsed_xgb\u001b[0m \u001b[1;33m=\u001b[0m \u001b[0mtime\u001b[0m\u001b[1;33m.\u001b[0m\u001b[0mtime\u001b[0m\u001b[1;33m(\u001b[0m\u001b[1;33m)\u001b[0m\u001b[1;33m-\u001b[0m\u001b[0mt\u001b[0m\u001b[1;33m\u001b[0m\u001b[1;33m\u001b[0m\u001b[0m\n",
      "\u001b[1;32m<ipython-input-4-33c7d4ffc720>\u001b[0m in \u001b[0;36mXGB\u001b[1;34m(X_train, y_train, X_test, y_test)\u001b[0m\n\u001b[0;32m      1\u001b[0m \u001b[1;32mdef\u001b[0m \u001b[0mXGB\u001b[0m\u001b[1;33m(\u001b[0m\u001b[0mX_train\u001b[0m\u001b[1;33m,\u001b[0m \u001b[0my_train\u001b[0m\u001b[1;33m,\u001b[0m \u001b[0mX_test\u001b[0m\u001b[1;33m,\u001b[0m \u001b[0my_test\u001b[0m\u001b[1;33m)\u001b[0m\u001b[1;33m:\u001b[0m\u001b[1;33m\u001b[0m\u001b[1;33m\u001b[0m\u001b[0m\n\u001b[1;32m----> 2\u001b[1;33m     \u001b[1;32mfrom\u001b[0m \u001b[0mxgboost\u001b[0m \u001b[1;32mimport\u001b[0m \u001b[0mXGBClassifier\u001b[0m\u001b[1;33m\u001b[0m\u001b[1;33m\u001b[0m\u001b[0m\n\u001b[0m\u001b[0;32m      3\u001b[0m \u001b[1;33m\u001b[0m\u001b[0m\n\u001b[0;32m      4\u001b[0m     clf3 = XGBClassifier(objective ='reg:logistic', colsample_bytree = 0.3, learning_rate = 0.1,\n\u001b[0;32m      5\u001b[0m                          \u001b[0mmax_depth\u001b[0m \u001b[1;33m=\u001b[0m \u001b[1;36m3\u001b[0m\u001b[1;33m,\u001b[0m\u001b[1;33m\u001b[0m\u001b[1;33m\u001b[0m\u001b[0m\n",
      "\u001b[1;31mModuleNotFoundError\u001b[0m: No module named 'xgboost'"
     ]
    }
   ],
   "source": [
    "def XGB(X_train, y_train, X_test, y_test):\n",
    "    from xgboost import XGBClassifier\n",
    "\n",
    "    clf3 = XGBClassifier(objective ='reg:logistic', colsample_bytree = 0.3, learning_rate = 0.1,\n",
    "                         max_depth = 3,\n",
    "                         gamma =10, n_estimators = 1000)\n",
    "    clf3.fit(X_train, y_train)\n",
    "    y_train3 = clf3.predict(X_train)\n",
    "    y_test3 = clf3.predict(X_test)\n",
    "\n",
    "    from sklearn.metrics import accuracy_score\n",
    "\n",
    "    print('Accuracy for training data: \\t', (accuracy_score(y_train, y_train3)))\n",
    "    print('Accuracy for test data: \\t', (accuracy_score(y_test, y_test3)))\n",
    "    \n",
    "    return clf3\n",
    "t=time.time()     \n",
    "clf3 = XGB(X_train, y_train, X_test, y_test)\n",
    "   \n",
    "elapsed_xgb = time.time()-t\n",
    "elapsed_xgb"
   ]
  },
  {
   "cell_type": "markdown",
   "metadata": {},
   "source": [
    "## AdaBoost\n"
   ]
  },
  {
   "cell_type": "code",
   "execution_count": null,
   "metadata": {},
   "outputs": [],
   "source": [
    "def AdaBoost(X_train, y_train, X_test, y_test):\n",
    "    from sklearn.ensemble import AdaBoostClassifier\n",
    "    from sklearn.tree import DecisionTreeClassifier\n",
    "    \n",
    "    clf4 = AdaBoostClassifier(DecisionTreeClassifier(max_depth=1),n_estimators=1000,\n",
    "                              algorithm=\"SAMME.R\", learning_rate=0.1)\n",
    "    clf4.fit(X_train, y_train)\n",
    "    y_train4 = clf4.predict(X_train)\n",
    "    y_test4 = clf4.predict(X_test)\n",
    "\n",
    "    from sklearn.metrics import accuracy_score\n",
    "\n",
    "    print('Accuracy for training data: \\t', (accuracy_score(y_train, y_train4)))\n",
    "    print('Accuracy for test data: \\t', (accuracy_score(y_test, y_test4)))\n",
    "    \n",
    "    return clf4\n",
    "t=time.time()    \n",
    "clf4 = AdaBoost(X_train, y_train, X_test, y_test)\n",
    "elapsed_ab = time.time()-t\n",
    "elapsed_ab"
   ]
  },
  {
   "cell_type": "markdown",
   "metadata": {},
   "source": [
    "# voting model"
   ]
  },
  {
   "cell_type": "code",
   "execution_count": 5,
   "metadata": {
    "scrolled": true
   },
   "outputs": [
    {
     "ename": "NameError",
     "evalue": "name 'clf3' is not defined",
     "output_type": "error",
     "traceback": [
      "\u001b[1;31m---------------------------------------------------------------------------\u001b[0m",
      "\u001b[1;31mNameError\u001b[0m                                 Traceback (most recent call last)",
      "\u001b[1;32m<ipython-input-5-f17a38c939e1>\u001b[0m in \u001b[0;36m<module>\u001b[1;34m\u001b[0m\n\u001b[0;32m     35\u001b[0m     \u001b[1;32mreturn\u001b[0m \u001b[0mclf5\u001b[0m\u001b[1;33m\u001b[0m\u001b[1;33m\u001b[0m\u001b[0m\n\u001b[0;32m     36\u001b[0m \u001b[0mt\u001b[0m\u001b[1;33m=\u001b[0m\u001b[0mtime\u001b[0m\u001b[1;33m.\u001b[0m\u001b[0mtime\u001b[0m\u001b[1;33m(\u001b[0m\u001b[1;33m)\u001b[0m\u001b[1;33m\u001b[0m\u001b[1;33m\u001b[0m\u001b[0m\n\u001b[1;32m---> 37\u001b[1;33m \u001b[0mclf5\u001b[0m \u001b[1;33m=\u001b[0m \u001b[0mVotingModel\u001b[0m\u001b[1;33m(\u001b[0m\u001b[0mX_train\u001b[0m\u001b[1;33m,\u001b[0m \u001b[0my_train\u001b[0m\u001b[1;33m,\u001b[0m \u001b[0mX_test\u001b[0m\u001b[1;33m,\u001b[0m \u001b[0my_test\u001b[0m\u001b[1;33m,\u001b[0m \u001b[0mclf1\u001b[0m\u001b[1;33m,\u001b[0m \u001b[0mclf2\u001b[0m\u001b[1;33m,\u001b[0m \u001b[0mclf3\u001b[0m\u001b[1;33m,\u001b[0m \u001b[0mclf4\u001b[0m\u001b[1;33m)\u001b[0m\u001b[1;33m\u001b[0m\u001b[1;33m\u001b[0m\u001b[0m\n\u001b[0m\u001b[0;32m     38\u001b[0m \u001b[1;33m\u001b[0m\u001b[0m\n\u001b[0;32m     39\u001b[0m \u001b[0melapsed_vt\u001b[0m \u001b[1;33m=\u001b[0m \u001b[0mtime\u001b[0m\u001b[1;33m.\u001b[0m\u001b[0mtime\u001b[0m\u001b[1;33m(\u001b[0m\u001b[1;33m)\u001b[0m\u001b[1;33m-\u001b[0m\u001b[0mt\u001b[0m\u001b[1;33m\u001b[0m\u001b[1;33m\u001b[0m\u001b[0m\n",
      "\u001b[1;31mNameError\u001b[0m: name 'clf3' is not defined"
     ]
    }
   ],
   "source": [
    "def VotingModel (X_train, y_train, X_test, y_test, clf1, clf2, clf3, clf4):\n",
    "    from sklearn.tree import DecisionTreeClassifier\n",
    "    from sklearn.ensemble import RandomForestClassifier\n",
    "    from xgboost import XGBClassifier\n",
    "    from sklearn.ensemble import AdaBoostClassifier\n",
    "    from sklearn.ensemble import BaggingClassifier\n",
    "    from sklearn.ensemble import VotingClassifier \n",
    "    from sklearn.metrics import accuracy_score\n",
    "    \n",
    "\n",
    "    clf1 = BaggingClassifier(DecisionTreeClassifier(), n_estimators=999,\n",
    "                             max_samples =999, bootstrap =True, n_jobs=-1)  \n",
    "    clf2 = RandomForestClassifier(n_estimators=999, max_leaf_nodes=16, n_jobs=-1)\n",
    "    clf3 = XGBClassifier(objective ='reg:logistic', colsample_bytree = 0.3, learning_rate = 0.1,\n",
    "                         max_depth = 3,\n",
    "                         gamma =10, n_estimators = 999)\n",
    "    clf4 = AdaBoostClassifier(DecisionTreeClassifier(max_depth=1),n_estimators=999,\n",
    "                              algorithm=\"SAMME.R\", learning_rate=0.1)\n",
    "    \n",
    "    \n",
    "\n",
    "    voting_clf = VotingClassifier(estimators= [('DTC', clf1), ('RF', clf2),('XGB', clf3), \n",
    "                                               ('ada', clf4)], \n",
    "                                  voting='soft',\n",
    "                                  weights= [0.1, 0.2, 0.8, 0.7],flatten_transform=True)\n",
    "    voting_clf.fit(X_train, y_train)\n",
    "    for clf5 in([clf1, clf2, clf3, clf4, voting_clf]):\n",
    "        clf5.fit(X_train, y_train)\n",
    "        y_train5 = clf5.predict(X_train)\n",
    "        y_test5 = clf5.predict(X_test)\n",
    "    print('Accuracy for training data: \\t', (accuracy_score(y_train, y_train5)))\n",
    "    print('Accuracy for test data: \\t', (accuracy_score(y_test, y_test5)))\n",
    "   \n",
    "    \n",
    "    return clf5\n",
    "t=time.time() \n",
    "clf5 = VotingModel(X_train, y_train, X_test, y_test, clf1, clf2, clf3, clf4)\n",
    "\n",
    "elapsed_vt = time.time()-t\n",
    "elapsed_vt"
   ]
  },
  {
   "cell_type": "code",
   "execution_count": 7,
   "metadata": {},
   "outputs": [
    {
     "name": "stdout",
     "output_type": "stream",
     "text": [
      "0.0\n"
     ]
    }
   ],
   "source": [
    "import time\n",
    "\n",
    "t=time.time()\n",
    "Elapsed = time.time()-t\n",
    "print(Elapsed)"
   ]
  },
  {
   "cell_type": "markdown",
   "metadata": {},
   "source": [
    "## QBoost"
   ]
  },
  {
   "cell_type": "code",
   "execution_count": 5,
   "metadata": {},
   "outputs": [
    {
     "ename": "KeyError",
     "evalue": "'postprocess is not a parameter of this solver.'",
     "output_type": "error",
     "traceback": [
      "\u001b[1;31m---------------------------------------------------------------------------\u001b[0m",
      "\u001b[1;31mKeyError\u001b[0m                                  Traceback (most recent call last)",
      "\u001b[1;32m<ipython-input-5-3ab8d3c82701>\u001b[0m in \u001b[0;36m<module>\u001b[1;34m\u001b[0m\n\u001b[0;32m     29\u001b[0m     \u001b[1;32mreturn\u001b[0m \u001b[0mclf6\u001b[0m\u001b[1;33m\u001b[0m\u001b[1;33m\u001b[0m\u001b[0m\n\u001b[0;32m     30\u001b[0m \u001b[0mt\u001b[0m\u001b[1;33m=\u001b[0m\u001b[0mtime\u001b[0m\u001b[1;33m.\u001b[0m\u001b[0mtime\u001b[0m\u001b[1;33m(\u001b[0m\u001b[1;33m)\u001b[0m\u001b[1;33m\u001b[0m\u001b[1;33m\u001b[0m\u001b[0m\n\u001b[1;32m---> 31\u001b[1;33m \u001b[0mclf6\u001b[0m \u001b[1;33m=\u001b[0m \u001b[0mQBoost\u001b[0m\u001b[1;33m(\u001b[0m\u001b[0mX_train\u001b[0m\u001b[1;33m,\u001b[0m \u001b[0my_train\u001b[0m\u001b[1;33m,\u001b[0m \u001b[0mX_test\u001b[0m\u001b[1;33m,\u001b[0m \u001b[0my_test\u001b[0m\u001b[1;33m)\u001b[0m\u001b[1;33m\u001b[0m\u001b[1;33m\u001b[0m\u001b[0m\n\u001b[0m\u001b[0;32m     32\u001b[0m \u001b[0melapsed_qb\u001b[0m \u001b[1;33m=\u001b[0m \u001b[0mtime\u001b[0m\u001b[1;33m.\u001b[0m\u001b[0mtime\u001b[0m\u001b[1;33m(\u001b[0m\u001b[1;33m)\u001b[0m\u001b[1;33m-\u001b[0m\u001b[0mt\u001b[0m\u001b[1;33m\u001b[0m\u001b[1;33m\u001b[0m\u001b[0m\n\u001b[0;32m     33\u001b[0m \u001b[0melapsed_qb\u001b[0m\u001b[1;33m\u001b[0m\u001b[1;33m\u001b[0m\u001b[0m\n",
      "\u001b[1;32m<ipython-input-5-3ab8d3c82701>\u001b[0m in \u001b[0;36mQBoost\u001b[1;34m(X_train, y_train, X_test, y_test)\u001b[0m\n\u001b[0;32m     18\u001b[0m \u001b[1;33m\u001b[0m\u001b[0m\n\u001b[0;32m     19\u001b[0m     \u001b[0mclf6\u001b[0m \u001b[1;33m=\u001b[0m \u001b[0mQBoostClassifier\u001b[0m\u001b[1;33m(\u001b[0m\u001b[0mn_estimators\u001b[0m\u001b[1;33m=\u001b[0m\u001b[1;36m50\u001b[0m\u001b[1;33m,\u001b[0m \u001b[0mmax_depth\u001b[0m\u001b[1;33m=\u001b[0m\u001b[1;36m2\u001b[0m\u001b[1;33m)\u001b[0m\u001b[1;33m\u001b[0m\u001b[1;33m\u001b[0m\u001b[0m\n\u001b[1;32m---> 20\u001b[1;33m     \u001b[0mclf6\u001b[0m\u001b[1;33m.\u001b[0m\u001b[0mfit\u001b[0m\u001b[1;33m(\u001b[0m\u001b[0mX_train\u001b[0m\u001b[1;33m,\u001b[0m \u001b[0my_train\u001b[0m\u001b[1;33m,\u001b[0m \u001b[0memb_sampler\u001b[0m\u001b[1;33m,\u001b[0m \u001b[0mlmd\u001b[0m\u001b[1;33m=\u001b[0m\u001b[1;36m1.0\u001b[0m\u001b[1;33m,\u001b[0m \u001b[1;33m**\u001b[0m\u001b[0mDW_PARAMS\u001b[0m\u001b[1;33m)\u001b[0m\u001b[1;33m\u001b[0m\u001b[1;33m\u001b[0m\u001b[0m\n\u001b[0m\u001b[0;32m     21\u001b[0m     \u001b[0my_train6\u001b[0m \u001b[1;33m=\u001b[0m \u001b[0mclf6\u001b[0m\u001b[1;33m.\u001b[0m\u001b[0mpredict\u001b[0m\u001b[1;33m(\u001b[0m\u001b[0mX_train\u001b[0m\u001b[1;33m)\u001b[0m\u001b[1;33m\u001b[0m\u001b[1;33m\u001b[0m\u001b[0m\n\u001b[0;32m     22\u001b[0m     \u001b[0my_test6\u001b[0m \u001b[1;33m=\u001b[0m \u001b[0mclf6\u001b[0m\u001b[1;33m.\u001b[0m\u001b[0mpredict\u001b[0m\u001b[1;33m(\u001b[0m\u001b[0mX_test\u001b[0m\u001b[1;33m)\u001b[0m\u001b[1;33m\u001b[0m\u001b[1;33m\u001b[0m\u001b[0m\n",
      "\u001b[1;32m~\\envs\\qboost-383ad6efd38192bb5a4493bfbc0338e9d5372f05\\qboost.py\u001b[0m in \u001b[0;36mfit\u001b[1;34m(self, X, y, sampler, lmd, **kwargs)\u001b[0m\n\u001b[0;32m    119\u001b[0m \u001b[1;33m\u001b[0m\u001b[0m\n\u001b[0;32m    120\u001b[0m         \u001b[1;31m# step 3: optimize QUBO\u001b[0m\u001b[1;33m\u001b[0m\u001b[1;33m\u001b[0m\u001b[1;33m\u001b[0m\u001b[0m\n\u001b[1;32m--> 121\u001b[1;33m         \u001b[0mres\u001b[0m \u001b[1;33m=\u001b[0m \u001b[0msampler\u001b[0m\u001b[1;33m.\u001b[0m\u001b[0msample_qubo\u001b[0m\u001b[1;33m(\u001b[0m\u001b[0mQ\u001b[0m\u001b[1;33m,\u001b[0m \u001b[1;33m**\u001b[0m\u001b[0mkwargs\u001b[0m\u001b[1;33m)\u001b[0m\u001b[1;33m\u001b[0m\u001b[1;33m\u001b[0m\u001b[0m\n\u001b[0m\u001b[0;32m    122\u001b[0m         \u001b[0msamples\u001b[0m \u001b[1;33m=\u001b[0m \u001b[0mnp\u001b[0m\u001b[1;33m.\u001b[0m\u001b[0marray\u001b[0m\u001b[1;33m(\u001b[0m\u001b[1;33m[\u001b[0m\u001b[1;33m[\u001b[0m\u001b[0msamp\u001b[0m\u001b[1;33m[\u001b[0m\u001b[0mk\u001b[0m\u001b[1;33m]\u001b[0m \u001b[1;32mfor\u001b[0m \u001b[0mk\u001b[0m \u001b[1;32min\u001b[0m \u001b[0mrange\u001b[0m\u001b[1;33m(\u001b[0m\u001b[0mself\u001b[0m\u001b[1;33m.\u001b[0m\u001b[0mn_estimators\u001b[0m\u001b[1;33m)\u001b[0m\u001b[1;33m]\u001b[0m \u001b[1;32mfor\u001b[0m \u001b[0msamp\u001b[0m \u001b[1;32min\u001b[0m \u001b[0mres\u001b[0m\u001b[1;33m]\u001b[0m\u001b[1;33m)\u001b[0m\u001b[1;33m\u001b[0m\u001b[1;33m\u001b[0m\u001b[0m\n\u001b[0;32m    123\u001b[0m \u001b[1;33m\u001b[0m\u001b[0m\n",
      "\u001b[1;32m~\\Anaconda\\lib\\site-packages\\dimod\\core\\sampler.py\u001b[0m in \u001b[0;36msample_qubo\u001b[1;34m(self, Q, **parameters)\u001b[0m\n\u001b[0;32m    238\u001b[0m         \"\"\"\n\u001b[0;32m    239\u001b[0m         \u001b[0mbqm\u001b[0m \u001b[1;33m=\u001b[0m \u001b[0mBinaryQuadraticModel\u001b[0m\u001b[1;33m.\u001b[0m\u001b[0mfrom_qubo\u001b[0m\u001b[1;33m(\u001b[0m\u001b[0mQ\u001b[0m\u001b[1;33m)\u001b[0m\u001b[1;33m\u001b[0m\u001b[1;33m\u001b[0m\u001b[0m\n\u001b[1;32m--> 240\u001b[1;33m         \u001b[1;32mreturn\u001b[0m \u001b[0mself\u001b[0m\u001b[1;33m.\u001b[0m\u001b[0msample\u001b[0m\u001b[1;33m(\u001b[0m\u001b[0mbqm\u001b[0m\u001b[1;33m,\u001b[0m \u001b[1;33m**\u001b[0m\u001b[0mparameters\u001b[0m\u001b[1;33m)\u001b[0m\u001b[1;33m\u001b[0m\u001b[1;33m\u001b[0m\u001b[0m\n\u001b[0m",
      "\u001b[1;32m~\\Anaconda\\lib\\site-packages\\dwave\\system\\composites\\embedding.py\u001b[0m in \u001b[0;36msample\u001b[1;34m(self, bqm, chain_strength, chain_break_method, chain_break_fraction, embedding_parameters, return_embedding, warnings, **parameters)\u001b[0m\n\u001b[0;32m    266\u001b[0m             \u001b[0mparameters\u001b[0m\u001b[1;33m[\u001b[0m\u001b[1;34m'ignored_interactions'\u001b[0m\u001b[1;33m]\u001b[0m \u001b[1;33m=\u001b[0m \u001b[0mignored\u001b[0m\u001b[1;33m\u001b[0m\u001b[1;33m\u001b[0m\u001b[0m\n\u001b[0;32m    267\u001b[0m \u001b[1;33m\u001b[0m\u001b[0m\n\u001b[1;32m--> 268\u001b[1;33m         \u001b[0mresponse\u001b[0m \u001b[1;33m=\u001b[0m \u001b[0mchild\u001b[0m\u001b[1;33m.\u001b[0m\u001b[0msample\u001b[0m\u001b[1;33m(\u001b[0m\u001b[0mbqm_embedded\u001b[0m\u001b[1;33m,\u001b[0m \u001b[1;33m**\u001b[0m\u001b[0mparameters\u001b[0m\u001b[1;33m)\u001b[0m\u001b[1;33m\u001b[0m\u001b[1;33m\u001b[0m\u001b[0m\n\u001b[0m\u001b[0;32m    269\u001b[0m \u001b[1;33m\u001b[0m\u001b[0m\n\u001b[0;32m    270\u001b[0m         \u001b[0mwarninghandler\u001b[0m\u001b[1;33m.\u001b[0m\u001b[0mchain_break\u001b[0m\u001b[1;33m(\u001b[0m\u001b[0mresponse\u001b[0m\u001b[1;33m,\u001b[0m \u001b[0membedding\u001b[0m\u001b[1;33m)\u001b[0m\u001b[1;33m\u001b[0m\u001b[1;33m\u001b[0m\u001b[0m\n",
      "\u001b[1;32m~\\Anaconda\\lib\\site-packages\\dwave\\system\\samplers\\dwave_sampler.py\u001b[0m in \u001b[0;36mwrapper\u001b[1;34m(sampler, *args, **kwargs)\u001b[0m\n\u001b[0;32m     43\u001b[0m         \u001b[1;32mwhile\u001b[0m \u001b[1;32mTrue\u001b[0m\u001b[1;33m:\u001b[0m\u001b[1;33m\u001b[0m\u001b[1;33m\u001b[0m\u001b[0m\n\u001b[0;32m     44\u001b[0m             \u001b[1;32mtry\u001b[0m\u001b[1;33m:\u001b[0m\u001b[1;33m\u001b[0m\u001b[1;33m\u001b[0m\u001b[0m\n\u001b[1;32m---> 45\u001b[1;33m                 \u001b[1;32mreturn\u001b[0m \u001b[0mf\u001b[0m\u001b[1;33m(\u001b[0m\u001b[0msampler\u001b[0m\u001b[1;33m,\u001b[0m \u001b[1;33m*\u001b[0m\u001b[0margs\u001b[0m\u001b[1;33m,\u001b[0m \u001b[1;33m**\u001b[0m\u001b[0mkwargs\u001b[0m\u001b[1;33m)\u001b[0m\u001b[1;33m\u001b[0m\u001b[1;33m\u001b[0m\u001b[0m\n\u001b[0m\u001b[0;32m     46\u001b[0m             \u001b[1;32mexcept\u001b[0m \u001b[0mSolverOfflineError\u001b[0m \u001b[1;32mas\u001b[0m \u001b[0merr\u001b[0m\u001b[1;33m:\u001b[0m\u001b[1;33m\u001b[0m\u001b[1;33m\u001b[0m\u001b[0m\n\u001b[0;32m     47\u001b[0m                 \u001b[1;32mif\u001b[0m \u001b[1;32mnot\u001b[0m \u001b[0msampler\u001b[0m\u001b[1;33m.\u001b[0m\u001b[0mfailover\u001b[0m\u001b[1;33m:\u001b[0m\u001b[1;33m\u001b[0m\u001b[1;33m\u001b[0m\u001b[0m\n",
      "\u001b[1;32m~\\Anaconda\\lib\\site-packages\\dwave\\system\\samplers\\dwave_sampler.py\u001b[0m in \u001b[0;36msample\u001b[1;34m(self, bqm, warnings, **kwargs)\u001b[0m\n\u001b[0;32m    336\u001b[0m             \u001b[1;32mraise\u001b[0m \u001b[0mBinaryQuadraticModelStructureError\u001b[0m\u001b[1;33m(\u001b[0m\u001b[0mmsg\u001b[0m\u001b[1;33m)\u001b[0m\u001b[1;33m\u001b[0m\u001b[1;33m\u001b[0m\u001b[0m\n\u001b[0;32m    337\u001b[0m \u001b[1;33m\u001b[0m\u001b[0m\n\u001b[1;32m--> 338\u001b[1;33m         \u001b[0mfuture\u001b[0m \u001b[1;33m=\u001b[0m \u001b[0msolver\u001b[0m\u001b[1;33m.\u001b[0m\u001b[0msample_bqm\u001b[0m\u001b[1;33m(\u001b[0m\u001b[0mbqm\u001b[0m\u001b[1;33m,\u001b[0m \u001b[1;33m**\u001b[0m\u001b[0mkwargs\u001b[0m\u001b[1;33m)\u001b[0m\u001b[1;33m\u001b[0m\u001b[1;33m\u001b[0m\u001b[0m\n\u001b[0m\u001b[0;32m    339\u001b[0m \u001b[1;33m\u001b[0m\u001b[0m\n\u001b[0;32m    340\u001b[0m         \u001b[1;32mif\u001b[0m \u001b[0mwarnings\u001b[0m \u001b[1;32mis\u001b[0m \u001b[1;32mNone\u001b[0m\u001b[1;33m:\u001b[0m\u001b[1;33m\u001b[0m\u001b[1;33m\u001b[0m\u001b[0m\n",
      "\u001b[1;32m~\\Anaconda\\lib\\site-packages\\dwave\\cloud\\solver.py\u001b[0m in \u001b[0;36msample_bqm\u001b[1;34m(self, bqm, **params)\u001b[0m\n\u001b[0;32m    662\u001b[0m         \u001b[1;32melif\u001b[0m \u001b[0mbqm\u001b[0m\u001b[1;33m.\u001b[0m\u001b[0mvartype\u001b[0m \u001b[1;32mis\u001b[0m \u001b[0mdimod\u001b[0m\u001b[1;33m.\u001b[0m\u001b[0mBINARY\u001b[0m\u001b[1;33m:\u001b[0m\u001b[1;33m\u001b[0m\u001b[1;33m\u001b[0m\u001b[0m\n\u001b[0;32m    663\u001b[0m             return self._sample('qubo', bqm.linear, bqm.quadratic, params,\n\u001b[1;32m--> 664\u001b[1;33m                                 undirected_biases=True)\n\u001b[0m\u001b[0;32m    665\u001b[0m         \u001b[1;32melse\u001b[0m\u001b[1;33m:\u001b[0m\u001b[1;33m\u001b[0m\u001b[1;33m\u001b[0m\u001b[0m\n\u001b[0;32m    666\u001b[0m             \u001b[1;32mraise\u001b[0m \u001b[0mTypeError\u001b[0m\u001b[1;33m(\u001b[0m\u001b[1;34m\"unknown/unsupported vartype\"\u001b[0m\u001b[1;33m)\u001b[0m\u001b[1;33m\u001b[0m\u001b[1;33m\u001b[0m\u001b[0m\n",
      "\u001b[1;32m~\\Anaconda\\lib\\site-packages\\dwave\\cloud\\solver.py\u001b[0m in \u001b[0;36m_sample\u001b[1;34m(self, type_, linear, quadratic, params, undirected_biases)\u001b[0m\n\u001b[0;32m    702\u001b[0m         \u001b[1;32mfor\u001b[0m \u001b[0mkey\u001b[0m \u001b[1;32min\u001b[0m \u001b[0mcombined_params\u001b[0m\u001b[1;33m:\u001b[0m\u001b[1;33m\u001b[0m\u001b[1;33m\u001b[0m\u001b[0m\n\u001b[0;32m    703\u001b[0m             \u001b[1;32mif\u001b[0m \u001b[0mkey\u001b[0m \u001b[1;32mnot\u001b[0m \u001b[1;32min\u001b[0m \u001b[0mself\u001b[0m\u001b[1;33m.\u001b[0m\u001b[0mparameters\u001b[0m \u001b[1;32mand\u001b[0m \u001b[1;32mnot\u001b[0m \u001b[0mkey\u001b[0m\u001b[1;33m.\u001b[0m\u001b[0mstartswith\u001b[0m\u001b[1;33m(\u001b[0m\u001b[1;34m'x_'\u001b[0m\u001b[1;33m)\u001b[0m\u001b[1;33m:\u001b[0m\u001b[1;33m\u001b[0m\u001b[1;33m\u001b[0m\u001b[0m\n\u001b[1;32m--> 704\u001b[1;33m                 \u001b[1;32mraise\u001b[0m \u001b[0mKeyError\u001b[0m\u001b[1;33m(\u001b[0m\u001b[1;34m\"{} is not a parameter of this solver.\"\u001b[0m\u001b[1;33m.\u001b[0m\u001b[0mformat\u001b[0m\u001b[1;33m(\u001b[0m\u001b[0mkey\u001b[0m\u001b[1;33m)\u001b[0m\u001b[1;33m)\u001b[0m\u001b[1;33m\u001b[0m\u001b[1;33m\u001b[0m\u001b[0m\n\u001b[0m\u001b[0;32m    705\u001b[0m \u001b[1;33m\u001b[0m\u001b[0m\n\u001b[0;32m    706\u001b[0m         \u001b[1;31m# transform some of the parameters in-place\u001b[0m\u001b[1;33m\u001b[0m\u001b[1;33m\u001b[0m\u001b[1;33m\u001b[0m\u001b[0m\n",
      "\u001b[1;31mKeyError\u001b[0m: 'postprocess is not a parameter of this solver.'"
     ]
    }
   ],
   "source": [
    "import time\n",
    "def QBoost(X_train, y_train, X_test, y_test):\n",
    "    NUM_READS = 3000\n",
    "    DW_PARAMS = {'num_reads': NUM_READS,\n",
    "                 'auto_scale': True,\n",
    "                 'num_spin_reversal_transforms': 10,\n",
    "                 'postprocess': 'optimization',\n",
    "                 }\n",
    "\n",
    "    from dwave.system.samplers import DWaveSampler\n",
    "    from dwave.system.composites import EmbeddingComposite\n",
    "\n",
    "    dwave_sampler = DWaveSampler(solver={'qpu': True}) # Some accounts need to replace this line with the next:\n",
    "    # dwave_sampler = DWaveSampler(token='ENTER TOKEN HERE', solver='ENTER SOLVER NAME HERE')\n",
    "    emb_sampler = EmbeddingComposite(dwave_sampler)\n",
    "\n",
    "    from qboost import WeakClassifiers, QBoostClassifier\n",
    "\n",
    "    clf6 = QBoostClassifier(n_estimators=50, max_depth=2)\n",
    "    clf6.fit(X_train, y_train, emb_sampler, lmd=1.0, **DW_PARAMS)\n",
    "    y_train6 = clf6.predict(X_train)\n",
    "    y_test6 = clf6.predict(X_test)\n",
    "\n",
    "    from sklearn.metrics import accuracy_score\n",
    "\n",
    "    print('Accuracy for training data: \\t', (accuracy_score(y_train, y_train6)))\n",
    "    print('Accuracy for test data: \\t', (accuracy_score(y_test, y_test6)))\n",
    "    \n",
    "    return clf6\n",
    "t=time.time()     \n",
    "clf6 = QBoost(X_train, y_train, X_test, y_test)\n",
    "elapsed_qb = time.time()-t\n",
    "elapsed_qb"
   ]
  },
  {
   "cell_type": "markdown",
   "metadata": {},
   "source": [
    "## QBoostPlus"
   ]
  },
  {
   "cell_type": "code",
   "execution_count": null,
   "metadata": {},
   "outputs": [],
   "source": [
    "def QBoostPlus(X_train, y_train, X_test, y_test, clf1, clf2, clf3, clf4):\n",
    "    NUM_READS = 1000\n",
    "    DW_PARAMS = {'num_reads': NUM_READS,\n",
    "                 'auto_scale': True,\n",
    "                 'num_spin_reversal_transforms': 10,\n",
    "                 'postprocess': 'optimization',\n",
    "                 }\n",
    "\n",
    "    from dwave.system.samplers import DWaveSampler\n",
    "    from dwave.system.composites import EmbeddingComposite\n",
    "    # dwave_sampler = DWaveSampler(token='ENTER TOKEN HERE', solver='ENTER SOLVER NAME HERE')\n",
    "    dwave_sampler = DWaveSampler(solver={'qpu': True}) # Some accounts need to replace this line with the next:\n",
    "    \n",
    "    emb_sampler = EmbeddingComposite(dwave_sampler)\n",
    "    \n",
    "    from qboost import QboostPlus\n",
    "\n",
    "    clf7 = QboostPlus([clf1, clf2, clf3, clf4])\n",
    "    clf7.fit(X_train, y_train, emb_sampler, lmd=1.0, **DW_PARAMS)\n",
    "    y_train7 = clf7.predict(X_train)\n",
    "    y_test7 = clf7.predict(X_test)\n",
    "\n",
    "    from sklearn.metrics import accuracy_score\n",
    "\n",
    "    print('Accuracy for training data: \\t', (accuracy_score(y_train, y_train7)))\n",
    "    print('Accuracy for test data: \\t', (accuracy_score(y_test, y_test7)))\n",
    "    \n",
    "    return clf7\n",
    "t=time.time()    \n",
    "clf7 = QBoostPlus(X_train, y_train, X_test, y_test, clf1, clf2, clf3, clf4)\n",
    "elapsed_qbp = time.time()-t\n",
    "elapsed_qbp"
   ]
  },
  {
   "cell_type": "markdown",
   "metadata": {},
   "source": [
    "# new model"
   ]
  },
  {
   "cell_type": "code",
   "execution_count": null,
   "metadata": {},
   "outputs": [],
   "source": [
    "def NewModel(X_train, y_train, X_test, y_test, clf5, clf6):\n",
    "    NUM_READS = 1000\n",
    "    DW_PARAMS = {'num_reads': NUM_READS,\n",
    "                 'auto_scale': True,\n",
    "                 'num_spin_reversal_transforms': 10,\n",
    "                 'postprocess': 'optimization',\n",
    "                 }\n",
    "\n",
    "    from dwave.system.samplers import DWaveSampler\n",
    "    from dwave.system.composites import EmbeddingComposite\n",
    "\n",
    "    dwave_sampler = DWaveSampler(solver={'qpu': True}) # Some accounts need to replace this line with the next:\n",
    "    # dwave_sampler = DWaveSampler(token='ENTER TOKEN HERE', solver='ENTER SOLVER NAME HERE')\n",
    "    emb_sampler = EmbeddingComposite(dwave_sampler)\n",
    "    \n",
    "    from qboost import QboostPlus\n",
    "\n",
    "    clf8 = QboostPlus([clf5, clf6])\n",
    "    clf8.fit(X_train, y_train, emb_sampler, lmd=1.0, **DW_PARAMS)\n",
    "    y_train8 = clf8.predict(X_train)\n",
    "    y_test8 = clf8.predict(X_test)\n",
    "\n",
    "    from sklearn.metrics import accuracy_score\n",
    "\n",
    "    print('Accuracy for training data: \\t', (accuracy_score(y_train, y_train8)))\n",
    "    print('Accuracy for test data: \\t', (accuracy_score(y_test, y_test8)))\n",
    "    \n",
    "    return clf8\n",
    "t=time.time()    \n",
    "clf8 = NewModel(X_train, y_train, X_test, y_test, clf5, clf6)\n",
    "elapsed_NM = time.time()-t\n",
    "elapsed_NM"
   ]
  },
  {
   "cell_type": "code",
   "execution_count": null,
   "metadata": {},
   "outputs": [],
   "source": [
    "print('=======================================')\n",
    "#Decision Tree\n",
    "print('Decision Tree: ')\n",
    "clf1 = Decision_Tree(X_train, y_train, X_test, y_test)\n",
    "print('---------------------------------------')\n",
    "# Random Forest\n",
    "print('Random Forest: ')\n",
    "clf2 = Random_Forest(X_train, y_train, X_test, y_test)\n",
    "print('---------------------------------------')\n",
    "#XGB\n",
    "print('XGB:')\n",
    "clf3 =  XGB(X_train, y_train, X_test, y_test)\n",
    "print('---------------------------------------')\n",
    "# AdaBoost\n",
    "print('AdaBoost: ')\n",
    "clf4 = AdaBoost(X_train, y_train, X_test, y_test)\n",
    "print('---------------------------------------')\n",
    "# VotingMODEL\n",
    "print('VotingModel: ')\n",
    "clf5 = VotingModel(X_train, y_train, X_test, y_test, clf1, clf2, clf3, clf4) \n",
    "print('---------------------------------------')\n",
    "print('QBoost: ')\n",
    "clf6 = QBoost(X_train, y_train, X_test, y_test) \n",
    "print('---------------------------------------')\n",
    "# QBoostPlus\n",
    "print('QBoostPlus: ')\n",
    "clf7 = QBoostPlus(X_train, y_train, X_test, y_test, clf1, clf2, clf3, clf4) \n",
    "print('---------------------------------------')\n",
    "# QBoostPlusPlus\n",
    "print('NewModel: ')\n",
    "clf8 = NewModel(X_train, y_train, X_test, y_test,  clf5,clf6) \n",
    "print('=======================================')"
   ]
  },
  {
   "cell_type": "code",
   "execution_count": null,
   "metadata": {},
   "outputs": [],
   "source": [
    "from sklearn.metrics import confusion_matrix \n",
    "from sklearn.metrics import accuracy_score \n",
    "from sklearn.metrics import classification_report \n",
    "  \n",
    "actual = y_test\n",
    "predicted  = clf7.predict(X_test)\n",
    "results = confusion_matrix(actual, predicted)"
   ]
  },
  {
   "cell_type": "code",
   "execution_count": null,
   "metadata": {},
   "outputs": [],
   "source": [
    "import numpy as np\n",
    "predicted = np.where(predicted >0.0, 1, -1)\n",
    "#print(predicted)\n",
    "#print(y_test.T)"
   ]
  },
  {
   "cell_type": "code",
   "execution_count": null,
   "metadata": {},
   "outputs": [],
   "source": [
    "print ('Confusion Matrix :')\n",
    "print(results) \n",
    "print ('Accuracy Score :',accuracy_score(actual, predicted)) \n",
    "print ('Report : ')\n",
    "print( classification_report(actual, predicted))"
   ]
  },
  {
   "cell_type": "code",
   "execution_count": null,
   "metadata": {},
   "outputs": [],
   "source": [
    "def getCM(actuals, predictions, NUM_LABELS=2):\n",
    "    import numpy\n",
    "    import matplotlib.pyplot as plt\n",
    "    from sklearn.metrics import confusion_matrix\n",
    "    from sklearn.metrics import accuracy_score\n",
    "    from sklearn.metrics import classification_report\n",
    "    \n",
    "    def error_rate(predictions, labels):\n",
    "        \"\"\"Return the error rate and confusions.\"\"\"\n",
    "        correct = numpy.sum(predictions == labels)\n",
    "        total = predictions.shape[0]\n",
    "\n",
    "        error = 100.0 - (100 * float(correct) / float(total))\n",
    "\n",
    "        confusions = numpy.zeros([NUM_LABELS, NUM_LABELS], numpy.int32)\n",
    "        bundled = zip(predictions, labels)\n",
    "        for predicted, actual in bundled:\n",
    "            confusions[int(predicted), int(actual)] += 1\n",
    "\n",
    "        return error, confusions\n",
    "\n",
    "    %matplotlib inline  \n",
    "\n",
    "    test_error, confusions = error_rate(numpy.asarray(predictions), numpy.asarray(actuals))\n",
    "    \n",
    "    plt.xlabel('Actual')\n",
    "    plt.ylabel('Predicted')\n",
    "    plt.grid(False)\n",
    "    plt.xticks(numpy.arange(NUM_LABELS))\n",
    "    plt.yticks(numpy.arange(NUM_LABELS))\n",
    "    plt.imshow(confusions, cmap=plt.cm.jet, interpolation='nearest');\n",
    "\n",
    "    for i, cas in enumerate(confusions):\n",
    "        for j, count in enumerate(cas):\n",
    "            if count > 0:\n",
    "                xoff = .07 * len(str(count))\n",
    "                plt.text(j-xoff, i+.2, int(count), fontsize=10, color='white')\n",
    "                \n",
    "    print('Accuracy Score: {}'.format(accuracy_score(actuals, predictions)))\n",
    "    print()\n",
    "\n",
    "    print(classification_report(actuals, predictions, digits=4))"
   ]
  },
  {
   "cell_type": "code",
   "execution_count": null,
   "metadata": {},
   "outputs": [],
   "source": [
    "y_pred = clf7.predict(X_test)\n",
    "import numpy as np\n",
    "predicted = np.where(predicted >0.0, 1, -1)"
   ]
  },
  {
   "cell_type": "code",
   "execution_count": null,
   "metadata": {
    "scrolled": false
   },
   "outputs": [],
   "source": [
    "getCM(y_test.astype(int), y_pred)"
   ]
  },
  {
   "cell_type": "code",
   "execution_count": null,
   "metadata": {},
   "outputs": [],
   "source": [
    "import scikitplot as skplt\n",
    "from sklearn.metrics import accuracy_score\n",
    "accuracy_score(y_test, y_pred)\n",
    "skplt.metrics.plot_confusion_matrix(y_test, y_pred)\n",
    "\n",
    "plt.savefig('C:/Users/danyal.maheshwari/Documents/Results/confusion_matrix142.png', transparent=True, dpi = 1000)\n",
    "plt.show()\n"
   ]
  },
  {
   "cell_type": "code",
   "execution_count": null,
   "metadata": {},
   "outputs": [],
   "source": []
  }
 ],
 "metadata": {
  "kernelspec": {
   "display_name": "Python 3",
   "language": "python",
   "name": "python3"
  },
  "language_info": {
   "codemirror_mode": {
    "name": "ipython",
    "version": 3
   },
   "file_extension": ".py",
   "mimetype": "text/x-python",
   "name": "python",
   "nbconvert_exporter": "python",
   "pygments_lexer": "ipython3",
   "version": "3.7.7"
  },
  "toc": {
   "base_numbering": 1,
   "nav_menu": {},
   "number_sections": true,
   "sideBar": true,
   "skip_h1_title": false,
   "title_cell": "Table of Contents",
   "title_sidebar": "Contents",
   "toc_cell": false,
   "toc_position": {},
   "toc_section_display": true,
   "toc_window_display": false
  }
 },
 "nbformat": 4,
 "nbformat_minor": 1
}
